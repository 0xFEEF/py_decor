{
 "cells": [
  {
   "cell_type": "code",
   "execution_count": null,
   "id": "01c9b28e",
   "metadata": {},
   "outputs": [],
   "source": [
    "# All possible decorators use cases:\n",
    "\n",
    "# 1. simplest:\n",
    "@function_decor\n",
    "some_function()  # decorated function\n",
    "\n",
    "# 2. decorated function with arguments\n",
    "@function_decor\n",
    "some_function(*args, **kwargs)  # decorated function with arguments: NOTE! use universal *args **kwargs notations!!!!!!\n",
    "\n",
    "# 3. decorator with arguments\n",
    "@function_decor(*args, **kwargs)  # decorator use arguments!\n",
    "some_function(*args, **kwargs) \n",
    "\n",
    "# 4. multiple decorators!\n",
    "@function_decor0(*args, **kwargs)\n",
    "@function_decor1(*args, **kwargs)\n",
    "# TODO .... decorator N\n",
    "some_function(*args, **kwargs) "
   ]
  },
  {
   "cell_type": "code",
   "execution_count": 2,
   "id": "a92fe894",
   "metadata": {},
   "outputs": [
    {
     "data": {
      "text/plain": [
       "'*  hello from function_a   *'"
      ]
     },
     "execution_count": 2,
     "metadata": {},
     "output_type": "execute_result"
    }
   ],
   "source": [
    "# decorator BASE description\n",
    "# decorator is a wrapper or container for a function!!!\n",
    "# decorator mechanic is based on call function(function), function = pointer to a function Object\n",
    "\n",
    "def function_d(f):  # decorator get a function as argument always!!!\n",
    "    return f'*  {f()}   *'  # and returns something (Object) , wrap the result with stars '*' for example!\n",
    "\n",
    "def function_a(): # decorated function\n",
    "    return ('hello from function_a')\n",
    "\n",
    "# test the calls:\n",
    "function_d(function_a)  # simplest decorator call!\n",
    "# so result is '*  hello from function_a   *', OK!\n"
   ]
  },
  {
   "cell_type": "code",
   "execution_count": 5,
   "id": "c6d73f14",
   "metadata": {},
   "outputs": [
    {
     "data": {
      "text/plain": [
       "'*  hello from function_a   *'"
      ]
     },
     "execution_count": 5,
     "metadata": {},
     "output_type": "execute_result"
    }
   ],
   "source": [
    "# use simplest decorator with python notation @\n",
    "def function_d(f):  # decorator get a function as argument always!!!\n",
    "    def change_func_behavior(): # int function to change behavior of original function (wrapper)\n",
    "        return f'*  {f()}   *'  # and returns something (Object) , wrap the result with stars '*' for example!\n",
    "    return change_func_behavior # return internal wrapper function\n",
    "\n",
    "@function_d  # use python notation '@' for decorator!\n",
    "def function_a(): # decorated function\n",
    "    return ('hello from function_a')\n",
    "\n",
    "# call decorated function now\n",
    "function_a()  # OK , we add to decorator some internal function!\n",
    "# no is OK!\n"
   ]
  },
  {
   "cell_type": "code",
   "execution_count": 9,
   "id": "10a5804f",
   "metadata": {},
   "outputs": [
    {
     "data": {
      "text/plain": [
       "'*  hello from function_a   *'"
      ]
     },
     "execution_count": 9,
     "metadata": {},
     "output_type": "execute_result"
    }
   ],
   "source": [
    "# use arguments in decorated function\n",
    "# use simplest decorator with python notation @\n",
    "def function_d(f):  # decorator get a function as argument always!!!\n",
    "    def change_func_behavior(*args, **kwargs): # int function to change behavior of original function (wrapper)\n",
    "        return f'*  {f(*args, **kwargs)}   *'  # and returns something (Object) , wrap the result with stars '*' for example!\n",
    "    return change_func_behavior # return internal wrapper function\n",
    "\n",
    "@function_d  # use python notation '@' for decorator!\n",
    "def function_a(param): # decorated function with parameters!\n",
    "    return (param)\n",
    "\n",
    "# call decorated function now\n",
    "function_a('hello from function_a')  # NO is OK!!! works well\n"
   ]
  },
  {
   "cell_type": "code",
   "execution_count": 20,
   "id": "90f8a9cc",
   "metadata": {},
   "outputs": [
    {
     "data": {
      "text/plain": [
       "6"
      ]
     },
     "execution_count": 20,
     "metadata": {},
     "output_type": "execute_result"
    }
   ],
   "source": [
    "# decorator with arguments : REAL EXAMPLE : check if user login data is correct!!!\n",
    "#\n",
    "def function_d(login=None):  # some login data structure: {'usr': '', 'pwd': ''} : format\n",
    "    def login_checker(f): # login checker internal function\n",
    "        if login and login['usr'] and login['pwd']:\n",
    "            r_ = f # [OK case], login data correct, somple return decorated function-Object f\n",
    "        else:\n",
    "            r_ = \"login data error!\" # login data wrong, return ERROR string object\n",
    "        return r_ # wrapper returns result : error string or object-function    \n",
    "    return login_checker # and return login_checker function Object\n",
    "\n",
    "some_login_data = {'usr': 'Nick', 'pwd': '1234'} # some external login data (from DATABASE or WEB login cache for example!)\n",
    "\n",
    "# some decorated function: we cannot execute decorated function if login data wrong!\n",
    "@function_d(some_login_data) # use input parameter for decorator\n",
    "def sum_func_a(*args): # decorated function with parameters as standard *args Notation (for simplify)\n",
    "    return sum(*args) # for example, returns sum of list arguments ! (e.g. 1+2+3+4+5 = ...)\n",
    "\n",
    "f_ = sum_func_a\n",
    "# f_ = error string if login  data wrong. f_ = decorated function Object if login correct!\n",
    "\n",
    "\n",
    "# now, test the call chains (without @ keyword)\n",
    "# f_ = function_d(login=some_login_data)(sum_func_a) # the chain , OK!\n",
    "\n",
    "f_ = f_( [1,2,3] ) if callable(f_) else f_ \n",
    "f_ # display result \n",
    "\n"
   ]
  },
  {
   "cell_type": "code",
   "execution_count": 38,
   "id": "a9bfdbab",
   "metadata": {},
   "outputs": [
    {
     "data": {
      "text/plain": [
       "'*  6   *'"
      ]
     },
     "execution_count": 38,
     "metadata": {},
     "output_type": "execute_result"
    }
   ],
   "source": [
    "# use multiple decorators\n",
    "# @decor1\n",
    "# @decor2\n",
    "# .....\n",
    "\n",
    "# decorator N0: check login data \n",
    "def function_d(login=None):  # some login data structure: {'usr': '', 'pwd': ''} : format\n",
    "    def login_checker(f): # login checker internal function\n",
    "        if login and login['usr'] and login['pwd']:\n",
    "            r_ = f # [OK case], login data correct, somple return decorated function-Object f\n",
    "        else:\n",
    "            r_ = \"login data error!\" # login data wrong, return ERROR string object\n",
    "        return r_ # wrapper returns result : error string or object-function    \n",
    "    return login_checker # and return login_checker function Object\n",
    "\n",
    "# decorator N1: surround out data by '*' \n",
    "def surround_by_stars(f):\n",
    "    if(type(f)==str):\n",
    "        return f # login datas error string object possible\n",
    "    def wrapper(*args, **kwargs):\n",
    "        r_ = f(*args, **kwargs)\n",
    "        return f'*  {r_}   *'\n",
    "    return wrapper # \n",
    "\n",
    "some_login_data = {'usr': 'ASdads', 'pwd': '1234'}\n",
    "\n",
    "@function_d(some_login_data)  # N0 decorator\n",
    "@surround_by_stars # N1 decorator\n",
    "def sum_func_a(*args): # decorated function with parameters as standard *args Notation (for simplify)\n",
    "    return sum(*args) # for example, returns sum of list arguments ! (e.g. 1+2+3+4+5 = ...)\n",
    "\n",
    "f_ = sum_func_a\n",
    "\n",
    "# test without @ (call chains):\n",
    "# THIS IS our REAL call chain !!!\n",
    "# f_ = function_d(some_login_data)(surround_by_stars) # returns err string or function-object we need\n",
    "# f_ = f_( sum_func_a )( [1,2,3] ) if callable(f_) else f_ \n",
    "\n",
    "f_ = f_( [1,2,3] ) if callable(f_) else f_ \n",
    "f_ # display result \n",
    "\n"
   ]
  },
  {
   "cell_type": "code",
   "execution_count": null,
   "id": "243bb22c",
   "metadata": {},
   "outputs": [],
   "source": []
  }
 ],
 "metadata": {
  "kernelspec": {
   "display_name": "Python 3 (ipykernel)",
   "language": "python",
   "name": "python3"
  },
  "language_info": {
   "codemirror_mode": {
    "name": "ipython",
    "version": 3
   },
   "file_extension": ".py",
   "mimetype": "text/x-python",
   "name": "python",
   "nbconvert_exporter": "python",
   "pygments_lexer": "ipython3",
   "version": "3.9.7"
  }
 },
 "nbformat": 4,
 "nbformat_minor": 5
}
